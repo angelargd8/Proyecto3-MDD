{
 "cells": [
  {
   "cell_type": "markdown",
   "metadata": {},
   "source": [
    "# Proyecto 3"
   ]
  },
  {
   "cell_type": "code",
   "execution_count": null,
   "metadata": {},
   "outputs": [
    {
     "name": "stdout",
     "output_type": "stream",
     "text": [
      "        Depreg        Mupreg      Mesreg  Añoreg       Depocu        Mupocu  \\\n",
      "0    Escuintla       Masagua       Enero     9.0    Escuintla       Masagua   \n",
      "1    Guatemala     Guatemala  Septiembre     9.0    Guatemala     Guatemala   \n",
      "2      Jutiapa  Yupiltepeque  Septiembre     9.0      Jutiapa  Yupiltepeque   \n",
      "3  El Progreso    Guastatoya   Diciembre     9.0  El Progreso    Guastatoya   \n",
      "4    Guatemala     Guatemala        Mayo     9.0    Guatemala     Guatemala   \n",
      "\n",
      "      Areag    Sexo  Diaocu      Mesocu  ...      Ocudif     Dnadif  \\\n",
      "0  Ignorado  Hombre     2.0       Enero  ...  Estudiante  Guatemala   \n",
      "1  Ignorado  Hombre    27.0  Septiembre  ...  Estudiante  Guatemala   \n",
      "2  Ignorado   Mujer    23.0      Agosto  ...  Estudiante  Guatemala   \n",
      "3  Ignorado  Hombre     5.0   Diciembre  ...    Ignorado  Guatemala   \n",
      "4  Ignorado   Mujer     7.0        Mayo  ...  Estudiante  Guatemala   \n",
      "\n",
      "      Mnadif           Nacdif     Dredif     Mredif Caudef    Asist  \\\n",
      "0  Guatemala  Guatemalteco(a)  Guatemala  Guatemala   Y214   Médico   \n",
      "1  Guatemala  Guatemalteco(a)  Guatemala  Guatemala   X919  Ninguna   \n",
      "2  Guatemala  Guatemalteco(a)  Guatemala  Guatemala   X959  Ninguna   \n",
      "3  Guatemala  Guatemalteco(a)  Guatemala  Guatemala   V899  Ninguna   \n",
      "4  Guatemala  Guatemalteco(a)  Guatemala  Guatemala   X709  Ninguna   \n",
      "\n",
      "          Ocur    Cerdef  \n",
      "0  Vía pública    Médica  \n",
      "1  Vía pública    Médica  \n",
      "2  Vía pública  Empírica  \n",
      "3  Vía pública    Médica  \n",
      "4  Vía pública    Médica  \n",
      "\n",
      "[5 rows x 25 columns]\n"
     ]
    }
   ],
   "source": [
    "import pandas as pd\n",
    "\n",
    "df = pd.read_spss(\"./2009/defunciones.sav\")\n",
    "print(df.head())\n",
    "\n",
    "\n",
    "print(df.columns)\n"
   ]
  }
 ],
 "metadata": {
  "kernelspec": {
   "display_name": "Python 3",
   "language": "python",
   "name": "python3"
  },
  "language_info": {
   "codemirror_mode": {
    "name": "ipython",
    "version": 3
   },
   "file_extension": ".py",
   "mimetype": "text/x-python",
   "name": "python",
   "nbconvert_exporter": "python",
   "pygments_lexer": "ipython3",
   "version": "3.12.8"
  }
 },
 "nbformat": 4,
 "nbformat_minor": 2
}
